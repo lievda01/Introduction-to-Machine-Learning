{
 "cells": [
  {
   "cell_type": "markdown",
   "id": "4524c3fe",
   "metadata": {},
   "source": [
    "# Part A"
   ]
  },
  {
   "cell_type": "markdown",
   "id": "fd4e0a5f",
   "metadata": {},
   "source": [
    "Visitors to your website are asked to answer a single survey question before they get access to the content on the page. Among all of the users, there are two categories: Random Clicker (RC), and Truthful Clicker (TC). There are two possible answers to the survey: yes and no. Random clickers would click either one with equal probability. You are also giving the information that the expected fraction of random clickers is 0.3. After a trial period, you get the following survey results: 65% said Yes and 35% said No. What fraction of people who are truthful clickers answered yes? Hint: use the rule of total probability."
   ]
  },
  {
   "cell_type": "code",
   "execution_count": 12,
   "id": "7e2a0d1f",
   "metadata": {},
   "outputs": [
    {
     "name": "stdout",
     "output_type": "stream",
     "text": [
      "The fraction of people who are truthful clickers answered yes is: 0.71\n"
     ]
    }
   ],
   "source": [
    "# RC = Random Clicker\n",
    "# TC = Truthful Clicker\n",
    "\n",
    "# Survey yes or no\n",
    "\n",
    "# P(random clicker) = 0.3\n",
    "# P(Y| random clicker) = 0.5\n",
    "\n",
    "# P(truthful clicker) = 0.7\n",
    "\n",
    "# P(Y) = 0.65\n",
    "\n",
    "# P(Y, truthful clicker) = ?\n",
    "\n",
    "# P(Y) = P(Y, truthful clicker) + P(Y, random clicker)\n",
    "# P(Y) = P(truthful clicker) * P(Y | truthful clicker) + P(random clicker) * P(Y|Random Clicker)\n",
    "\n",
    "# 0.65 = 0.7 * P(Y | truthful clicker) + 0.3 * 0.5\n",
    "\n",
    "#P(Y | truthful clicker) =  (0.65 - (0.3 * 0.5)) / 0.7\n",
    "\n",
    "\n",
    "part_a = (0.65 - (0.3 * 0.5)) / 0.7\n",
    "print(f\"The fraction of people who are truthful clickers answered yes is: {part_a:.2f}\")"
   ]
  },
  {
   "cell_type": "markdown",
   "id": "9824a8fb",
   "metadata": {},
   "source": [
    "# Part B. "
   ]
  },
  {
   "cell_type": "markdown",
   "id": "0fe2faea",
   "metadata": {},
   "source": [
    "Imagine a medical test for a disease with the following two attributes:\n",
    "\n",
    "The sensitivity is about 0.993. That is, if someone has the disease, there is a probability of 0.993 that they will test positive.\n",
    "The specificity is about 0.9999. This means that if someone doesn't have the disease, there is probability of 0.9999 that they will test negative.\n",
    "In the general population, incidence of the disease is reasonably rare: about 0.0025% of all people have it (or 0.000025 as a decimal probability).\n",
    "Suppose someone tests positive. What is the probability that they have the disease?"
   ]
  },
  {
   "cell_type": "code",
   "execution_count": 17,
   "id": "ddcf22d4",
   "metadata": {},
   "outputs": [
    {
     "name": "stdout",
     "output_type": "stream",
     "text": [
      "If someone tests postive, the probability of having the disease is: 0.1989\n"
     ]
    }
   ],
   "source": [
    "# P(+ | Dis) = 0.993\n",
    "# P(- | No Dis) = 0.9999\n",
    "# P(+ | No Dis) = 0.0001\n",
    "# P(Dis) = 0.000025\n",
    "\n",
    "# P(Dis | +) = ?\n",
    "\n",
    "# P(Dis | +) = (P(Dis) * P(+ | Dis)) / P (+)\n",
    "# P(Dis | +) = (P(Dis) * P(+ | Dis)) / (P(+ | Dis) * P(Dis) + P(+ | No Dis) * P(No Dis))\n",
    "\n",
    "part_b = (0.993 * 0.000025) / ((0.993 * 0.000025) + (0.0001) * (1-0.000025))\n",
    "print(f\"If someone tests postive, the probability of having the disease is: {part_b:.4f}\")\n"
   ]
  }
 ],
 "metadata": {
  "kernelspec": {
   "display_name": "Python 3 (ipykernel)",
   "language": "python",
   "name": "python3"
  },
  "language_info": {
   "codemirror_mode": {
    "name": "ipython",
    "version": 3
   },
   "file_extension": ".py",
   "mimetype": "text/x-python",
   "name": "python",
   "nbconvert_exporter": "python",
   "pygments_lexer": "ipython3",
   "version": "3.11.3"
  }
 },
 "nbformat": 4,
 "nbformat_minor": 5
}
